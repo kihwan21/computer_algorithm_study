{
 "cells": [
  {
   "cell_type": "code",
   "execution_count": 1,
   "metadata": {},
   "outputs": [],
   "source": [
    "#merge sort\n",
    "def merge_sort(array):\n",
    "    left = []\n",
    "    right = []\n",
    "\n",
    "    if len(array) <= 1:\n",
    "        return array\n",
    "    else:\n",
    "        middle = len(array)//2\n",
    "        left = array[0:middle]\n",
    "        right = array[middle:]\n",
    "        left = merge_sort(left)\n",
    "        right = merge_sort(right)\n",
    "        return merge(left, right)\n",
    "\n",
    "def merge(left, right):\n",
    "    result = []\n",
    "    while len(left) > 0 and len(right) > 0:\n",
    "        if left[0] <= right[0]:\n",
    "            result.append(left[0])\n",
    "            left.pop(0)\n",
    "        else:\n",
    "            result.append(right[0])\n",
    "            right.pop(0)\n",
    "    if len(left) > 0:\n",
    "        result.extend(left)\n",
    "    if len(right) > 0:\n",
    "        result.extend(right)\n",
    "    return result"
   ]
  },
  {
   "cell_type": "code",
   "execution_count": 2,
   "metadata": {},
   "outputs": [],
   "source": [
    "#insertion sort\n",
    "def insertion_sort(array):\n",
    "    for i in range(1, len(array)):\n",
    "        new_member = array[i]\n",
    "        tail_index = i-1\n",
    "        while tail_index >=0 and new_member < array[tail_index]:\n",
    "            array[tail_index+1] = array[tail_index]\n",
    "            tail_index -= 1\n",
    "        array[tail_index+1] = new_member\n",
    "    return array"
   ]
  },
  {
   "cell_type": "code",
   "execution_count": 3,
   "metadata": {},
   "outputs": [],
   "source": [
    "import random\n",
    "import time\n",
    "\n",
    "n = 20000\n",
    "\n",
    "unordered = []\n",
    "for i in range(0, n):\n",
    "    num = random.randint(1, n)\n",
    "    unordered.append(num)"
   ]
  },
  {
   "cell_type": "code",
   "execution_count": 4,
   "metadata": {},
   "outputs": [
    {
     "name": "stdout",
     "output_type": "stream",
     "text": [
      "12.344803094863892\n"
     ]
    }
   ],
   "source": [
    "start = time.time()\n",
    "insertion_sort(unordered.copy())\n",
    "end = time.time()\n",
    "print(end - start)"
   ]
  },
  {
   "cell_type": "code",
   "execution_count": 5,
   "metadata": {},
   "outputs": [
    {
     "name": "stdout",
     "output_type": "stream",
     "text": [
      "0.11698031425476074\n"
     ]
    }
   ],
   "source": [
    "start = time.time()\n",
    "merge_sort(unordered.copy())\n",
    "end = time.time()\n",
    "print(end - start)"
   ]
  }
 ],
 "metadata": {
  "interpreter": {
   "hash": "847356f37799fd3b958c515f6726750c1aff70ede38257c67477a4bea55125d9"
  },
  "kernelspec": {
   "display_name": "Python 3.9.7 64-bit (windows store)",
   "name": "python3"
  },
  "language_info": {
   "codemirror_mode": {
    "name": "ipython",
    "version": 3
   },
   "file_extension": ".py",
   "mimetype": "text/x-python",
   "name": "python",
   "nbconvert_exporter": "python",
   "pygments_lexer": "ipython3",
   "version": "3.9.7"
  },
  "orig_nbformat": 4
 },
 "nbformat": 4,
 "nbformat_minor": 2
}
