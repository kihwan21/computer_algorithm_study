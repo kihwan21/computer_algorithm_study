{
 "cells": [
  {
   "cell_type": "code",
   "execution_count": null,
   "metadata": {},
   "outputs": [],
   "source": [
    "\n",
    "\n",
    "import numpy as np\n",
    "\n",
    "def sigmoid(x):     # 활성화 함수\n",
    "    return 1 / (1 + np.exp(-x)) \n",
    "\n",
    "def identity_functions(x):  # 값을 출력하기 위한 함수(코드 흐름을 동일하게 하려고 있음) 설계는 미구현 선형 / 비선형\n",
    "    return x\n",
    "\n",
    "def init_network():\n",
    "    network = {}\n",
    "    network[\"W1\"] = np.array([[0.1, 0.3, 0.5], [0.2, 0.4, 0.6]])\n",
    "    network[\"b1\"] = np.array([0.1, 0.2, 0.3])\n",
    "    \n",
    "    network[\"W2\"] = np.array([[0.1, 0.4], [0.2, 0.5], [0.3, 0.6]])\n",
    "    network[\"b2\"] = np.array([0.1, 0.2])\n",
    "    \n",
    "    network[\"W3\"] = np.array([[0.1, 0.3], [0.2, 0.4]])\n",
    "    network[\"b3\"] = np.array([0.1, 0.2])\n",
    "    \n",
    "    return network\n",
    "\n",
    "def forward(network, x):\n",
    "    W1, W2, W3 = network[\"W1\"], network[\"W2\"], network[\"W3\"]\n",
    "    b1, b2, b3 = network[\"b1\"], network[\"b2\"], network[\"b3\"]\n",
    "    \n",
    "    a1 = np.dot(x, W1) + b1 # 1층\n",
    "    z1 = sigmoid(a1)    # 활성화 함수\n",
    "    \n",
    "    a2 = np.dot(z1, W2) + b2    # 2층\n",
    "    z2 = sigmoid(a2)    # 활성화 함수\n",
    "    \n",
    "    a3 = np.dot(z2, W3) + b3    # 출력 층\n",
    "    y = identity_functions(a3)  # 출력 함수 코드 흐림 때문에 넣은 함수. 기능은 없음 출력층 설계는 미구현 선형 / 비선형\n",
    "    \n",
    "    return y\n",
    "\n",
    "network = init_network()    # 객체 생성\n",
    "x = np.array([1.0, 0.5])    # 입력 값\n",
    "y = forward(network, x)     # 객체 생성\n",
    "print(y)"
   ]
  },
  {
   "cell_type": "code",
   "execution_count": null,
   "metadata": {},
   "outputs": [],
   "source": [
    "def softmax(a):\n",
    "    c = np.max(a)\n",
    "    exp_a = np.exp(a - c) #오버플로우 방지\n",
    "    sum_exp_a = np.sum(exp_a)\n",
    "    y = exp_a / sum_exp_a\n",
    "    \n",
    "    return y\n",
    "\n",
    "input_num = np.array([0.3, 2.9, 4.0])\n",
    "output_num = softmax(input_num)\n",
    "np.round(output_num, 5) # 5번째 자리에서 반올림\n"
   ]
  }
 ],
 "metadata": {
  "language_info": {
   "name": "python"
  },
  "orig_nbformat": 4
 },
 "nbformat": 4,
 "nbformat_minor": 2
}
