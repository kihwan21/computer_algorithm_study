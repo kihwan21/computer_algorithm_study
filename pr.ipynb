{
 "cells": [
  {
   "cell_type": "code",
   "execution_count": 2,
   "metadata": {},
   "outputs": [
    {
     "name": "stdout",
     "output_type": "stream",
     "text": [
      "1+2...+100000001= 100000000\n",
      "소요시간은 10.81214189529419 초입니다.\n"
     ]
    }
   ],
   "source": [
    "import time\n",
    "\n",
    "start=time.time()\n",
    "sum = 0 \n",
    "for i in range(1, 100000001):\n",
    "    sum=sum+1\n",
    "    \n",
    "end=time.time()\n",
    "\n",
    "print(\"1+2...+100000001=\", sum)\n",
    "print(\"소요시간은\", end-start, \"초입니다.\")"
   ]
  },
  {
   "cell_type": "code",
   "execution_count": null,
   "metadata": {},
   "outputs": [],
   "source": [
    "from datetime import datetime\n",
    "# 경기 결과 입력 받는 곳\n",
    "place=input(\"경기가 열린 곳은? \")\n",
    "time=input(\"경기가 열린 시간은? \")\n",
    "opponent=input(\"상대 팀은? \")\n",
    "goals=input(\"손흥민은 몇 골을 넣었나요? \")\n",
    "aids=input(\"도움은 몇 개인가요? \")\n",
    "score_me=input(\"손흥민 팀이 넣은 골 수는? \")\n",
    "score_you=input(\"상대 팀이 넣은 골 수는? \")\n",
    "\n",
    "# 기사 작성하는 곳\n",
    "news=\"[프리미어 리그 속보(\"+str(datetime.now())+\")]\\n\"\n",
    "news=news+\"손흥민 선수는 \"+place+\"에서 \"+time+\"에 열린 경기에 출전하였습니다. \"\n",
    "news=news+\"상대 팀은 \"+opponent+\"입니다. \"\n",
    "if score_me>score_you:\n",
    "    news=news+\"손흥민 선수의 팀이 \"+score_me+\"골을 넣어 \"+score_you+\"골을 넣은 상대 팀을 이겼습니다. \"\n",
    "elif score_me<score_you:\n",
    "    news=news+\"손흥민 선수의 팀이 \"+score_me+\"골을 넣어 \"+score_you+\"골을 넣은 상대 팀에게 졌습니다. \"\n",
    "else:\n",
    "    news=news+\"두 팀은 \"+score_me+\"대\"+score_you+\"로 비겼습니다. \"\n",
    "if int(goals)>0 and int(aids)>0:\n",
    "    news=news+\"손흥민 선수는 \"+goals+\"골에 도움 \"+aids+\"개로 승리를 크게 이끌었습니다. \"\n",
    "elif int(goals)>0 and int(aids)==0:\n",
    "    news=news+\"손흥민 선수는 \"+goals+\"골로 승리를 이끌었습니다. \"\n",
    "elif int(goals)==0 and int(aids)>0:\n",
    "    news=news+\"손흥민 선수는 골은 없지만 도움 \"+aids+\"개로 승리하는 데 공헌하였습니다. \"\n",
    "else:\n",
    "    news=news+\"아쉽게도 이번 경기에서 손홍민의 발끝은 침묵을 지켰습니다. \"\n",
    "\n",
    "print(news)\n",
    "# 음성으로 들려주는 곳\n",
    "\n",
    "\n",
    "from gtts import gTTS\n",
    "import playsound\n",
    "\n",
    "tts=gTTS(text=news,lang='ko') # 문자열 news를 위한 한국어 음성 합성\n",
    "tts.save(\"/content/news_Son.mp3\")\n"
   ]
  },
  {
   "cell_type": "code",
   "execution_count": 22,
   "metadata": {},
   "outputs": [
    {
     "name": "stdout",
     "output_type": "stream",
     "text": [
      "49996353.150785364\n",
      "소요시간은 29.442729473114014 초입니다.\n"
     ]
    }
   ],
   "source": [
    "import random\n",
    "import time\n",
    "\n",
    "start=time.time()\n",
    "\n",
    "sum = 0\n",
    "for i in range(100000001):\n",
    "    Nan = random.random()\n",
    "    sum = sum + Nan\n",
    "    \n",
    "end=time.time()\n",
    "\n",
    "\n",
    "print(sum)\n",
    "print(\"소요시간은\", end-start, \"초입니다.\")"
   ]
  },
  {
   "cell_type": "code",
   "execution_count": 59,
   "metadata": {},
   "outputs": [
    {
     "name": "stdout",
     "output_type": "stream",
     "text": [
      "[프리미어 리그 속보(2022년9월28일10시31분)]\n",
      "손흥민 선수는 서울에서 10에 열린 경기에 출전하였습니다. 상대 팀은 3입니다. 두 팀은 15대15로 비겼습니다. 손흥민 선수는 5골에 도움 1개로 승리를 크게 이끌었습니다. \n"
     ]
    },
    {
     "ename": "ModuleNotFoundError",
     "evalue": "No module named 'gtts'",
     "output_type": "error",
     "traceback": [
      "\u001b[1;31m---------------------------------------------------------------------------\u001b[0m",
      "\u001b[1;31mModuleNotFoundError\u001b[0m                       Traceback (most recent call last)",
      "\u001b[1;32m~\\AppData\\Local\\Temp/ipykernel_4724/186705247.py\u001b[0m in \u001b[0;36m<module>\u001b[1;34m\u001b[0m\n\u001b[0;32m     45\u001b[0m \u001b[1;33m\u001b[0m\u001b[0m\n\u001b[0;32m     46\u001b[0m \u001b[1;33m\u001b[0m\u001b[0m\n\u001b[1;32m---> 47\u001b[1;33m \u001b[1;32mfrom\u001b[0m \u001b[0mgtts\u001b[0m \u001b[1;32mimport\u001b[0m \u001b[0mgTTS\u001b[0m\u001b[1;33m\u001b[0m\u001b[1;33m\u001b[0m\u001b[0m\n\u001b[0m\u001b[0;32m     48\u001b[0m \u001b[1;32mimport\u001b[0m \u001b[0mplaysound\u001b[0m\u001b[1;33m\u001b[0m\u001b[1;33m\u001b[0m\u001b[0m\n\u001b[0;32m     49\u001b[0m \u001b[1;33m\u001b[0m\u001b[0m\n",
      "\u001b[1;31mModuleNotFoundError\u001b[0m: No module named 'gtts'"
     ]
    }
   ],
   "source": [
    "from datetime import datetime\n",
    "# 경기 결과 입력 받는 곳\n",
    "place=input(\"경기가 열린 곳은? \")\n",
    "time=input(\"경기가 열린 시간은? \")\n",
    "opponent=input(\"상대 팀은? \")\n",
    "goals=input(\"손흥민은 몇 골을 넣었나요? \")\n",
    "aids=input(\"도움은 몇 개인가요? \")\n",
    "score_me=input(\"손흥민 팀이 넣은 골 수는? \")\n",
    "score_you=input(\"상대 팀이 넣은 골 수는? \")\n",
    "\n",
    "\n",
    "\n",
    "now = datetime.now()\n",
    "year = str(now.year) + \"년\"\n",
    "month = str(now.month) + \"월\"\n",
    "day = str(now.day) + \"일\"\n",
    "hour = str(now.hour) + \"시\"\n",
    "minute = str(now.minute) + \"분\"\n",
    "\n",
    "times = (year + month + day + hour + minute)\n",
    "\n",
    "# 기사 작성하는 곳\n",
    "news=\"[프리미어 리그 속보(\"+times+\")]\\n\"\n",
    "\n",
    "\n",
    "news=news+\"손흥민 선수는 \"+place+\"에서 \"+time+\"에 열린 경기에 출전하였습니다. \"\n",
    "news=news+\"상대 팀은 \"+opponent+\"입니다. \"\n",
    "if score_me>score_you:\n",
    "    news=news+\"손흥민 선수의 팀이 \"+score_me+\"골을 넣어 \"+score_you+\"골을 넣은 상대 팀을 이겼습니다. \"\n",
    "elif score_me<score_you:\n",
    "    news=news+\"손흥민 선수의 팀이 \"+score_me+\"골을 넣어 \"+score_you+\"골을 넣은 상대 팀에게 졌습니다. \"\n",
    "else:\n",
    "    news=news+\"두 팀은 \"+score_me+\"대\"+score_you+\"로 비겼습니다. \"\n",
    "if int(goals)>0 and int(aids)>0:\n",
    "    news=news+\"손흥민 선수는 \"+goals+\"골에 도움 \"+aids+\"개로 승리를 크게 이끌었습니다. \"\n",
    "elif int(goals)>0 and int(aids)==0:\n",
    "    news=news+\"손흥민 선수는 \"+goals+\"골로 승리를 이끌었습니다. \"\n",
    "elif int(goals)==0 and int(aids)>0:\n",
    "    news=news+\"손흥민 선수는 골은 없지만 도움 \"+aids+\"개로 승리하는 데 공헌하였습니다. \"\n",
    "else:\n",
    "    news=news+\"아쉽게도 이번 경기에서 손홍민의 발끝은 침묵을 지켰습니다. \"\n",
    "\n",
    "print(news)\n",
    "# 음성으로 들려주는 곳\n",
    "\n",
    "\n",
    "# from gtts import gTTS\n",
    "# import playsound\n",
    "\n",
    "# tts=gTTS(text=news,lang='ko') # 문자열 news를 위한 한국어 음성 합성\n",
    "# tts.save(\"/content/news_Son.mp3\")\n"
   ]
  },
  {
   "cell_type": "code",
   "execution_count": 58,
   "metadata": {},
   "outputs": [
    {
     "name": "stdout",
     "output_type": "stream",
     "text": [
      "('2022년', '9월28일10시30분')\n"
     ]
    }
   ],
   "source": [
    "from datetime import datetime\n",
    "now = datetime.now()\n",
    "year = str(now.year) + \"년\"\n",
    "month = str(now.month) + \"월\"\n",
    "day = str(now.day) + \"일\"\n",
    "hour = str(now.hour) + \"시\"\n",
    "minute = str(now.minute) + \"분\"\n",
    "\n",
    "news = (year + month + day + hour + minute)\n",
    "\n",
    "print(news)"
   ]
  }
 ],
 "metadata": {
  "kernelspec": {
   "display_name": "Python 3.7.9 64-bit (microsoft store)",
   "language": "python",
   "name": "python3"
  },
  "language_info": {
   "codemirror_mode": {
    "name": "ipython",
    "version": 3
   },
   "file_extension": ".py",
   "mimetype": "text/x-python",
   "name": "python",
   "nbconvert_exporter": "python",
   "pygments_lexer": "ipython3",
   "version": "3.7.9"
  },
  "orig_nbformat": 4,
  "vscode": {
   "interpreter": {
    "hash": "a5e9acfa9e81c6dc9dade1ddfb0eacd10fb82856ca55f7e1427b6e32fc559d96"
   }
  }
 },
 "nbformat": 4,
 "nbformat_minor": 2
}
