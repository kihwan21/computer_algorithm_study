{
 "cells": [
  {
   "cell_type": "code",
   "execution_count": 2,
   "metadata": {},
   "outputs": [
    {
     "name": "stdout",
     "output_type": "stream",
     "text": [
      "초기화\n",
      "Hello Dave!\n",
      "Goodbye Dave!\n"
     ]
    }
   ],
   "source": [
    "class Man:\n",
    "    def __init__(self, name):\n",
    "        self.name = name\n",
    "        print(\"초기화\")\n",
    "    \n",
    "    def hello(self):\n",
    "        print(\"Hello\", self.name + \"!\")\n",
    "        \n",
    "    def goodbye(self):\n",
    "        print(\"Goodbye\" , self.name + \"!\")\n",
    "        \n",
    "m = Man(\"Dave\")\n",
    "m.hello()\n",
    "m.goodbye()"
   ]
  }
 ],
 "metadata": {
  "interpreter": {
   "hash": "651cb55a390646b52683cb21e67eea778eefb50186bb5d341789044073721aed"
  },
  "kernelspec": {
   "display_name": "Python 3.7.9 64-bit (windows store)",
   "language": "python",
   "name": "python3"
  },
  "language_info": {
   "codemirror_mode": {
    "name": "ipython",
    "version": 3
   },
   "file_extension": ".py",
   "mimetype": "text/x-python",
   "name": "python",
   "nbconvert_exporter": "python",
   "pygments_lexer": "ipython3",
   "version": "3.7.9"
  },
  "orig_nbformat": 4
 },
 "nbformat": 4,
 "nbformat_minor": 2
}
