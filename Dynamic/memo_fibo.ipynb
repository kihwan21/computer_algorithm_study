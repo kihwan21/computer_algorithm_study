{
 "cells": [
  {
   "cell_type": "code",
   "execution_count": 5,
   "metadata": {},
   "outputs": [
    {
     "name": "stdout",
     "output_type": "stream",
     "text": [
      "354224848179261915075\n"
     ]
    }
   ],
   "source": [
    "def fib(n):\n",
    "    memo = [1, 1]\n",
    "    for i in range(2, n):   #2부터 n까지. 여기서는 4까지\n",
    "        memo.append(0)      #0이 세번 붙음\n",
    "    return fib_action(memo, n-1)\n",
    "\n",
    "def fib_action(memo, n):\n",
    "    if memo[n] > 0:\n",
    "        pass\n",
    "    else:\n",
    "        memo[n] = fib_action(memo, n-1) + fib_action(memo, n-2)\n",
    "    return memo[n]\n",
    "\n",
    "index = 100\n",
    "print(fib(index))"
   ]
  }
 ],
 "metadata": {
  "interpreter": {
   "hash": "7b4b4feff2f24a0f0a34464dbe537a36fda679851528fb8735cb41fa49dffb2d"
  },
  "kernelspec": {
   "display_name": "Python 3.8.8 64-bit ('base': conda)",
   "language": "python",
   "name": "python3"
  },
  "language_info": {
   "codemirror_mode": {
    "name": "ipython",
    "version": 3
   },
   "file_extension": ".py",
   "mimetype": "text/x-python",
   "name": "python",
   "nbconvert_exporter": "python",
   "pygments_lexer": "ipython3",
   "version": "3.9.9"
  },
  "orig_nbformat": 4
 },
 "nbformat": 4,
 "nbformat_minor": 2
}
