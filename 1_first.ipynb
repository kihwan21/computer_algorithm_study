{
 "cells": [
  {
   "cell_type": "code",
   "execution_count": 5,
   "metadata": {},
   "outputs": [
    {
     "name": "stdout",
     "output_type": "stream",
     "text": [
      "[64, 25, 12, 11, 22]\n"
     ]
    }
   ],
   "source": [
    "array = [64, 25, 12, 22, 11]\n",
    "\n",
    "for bodrder_index in range(0, len(array)-1):  #뒤에 두개는 필요가 없음\n",
    "    min_index = border_index  \n",
    "    for pointer_index in range(border_index+1, len(array)):\n",
    "        if array[min_index] > array[pointer_index]:\n",
    "            min_index = pointer_index\n",
    "    array[border_index], array[min_index] = array[min_index], array[border_index]\n",
    "\n",
    "    \n",
    "print(array)"
   ]
  },
  {
   "cell_type": "code",
   "execution_count": 6,
   "metadata": {},
   "outputs": [
    {
     "name": "stdout",
     "output_type": "stream",
     "text": [
      "[11, 12, 22, 25, 64]\n"
     ]
    }
   ],
   "source": [
    "array = [64, 25, 12, 22, 11]\n",
    "\n",
    "for border_index in range(0, len(array)-1):\n",
    "    min_index = border_index\n",
    "    for pointer_index in range(border_index+1, len(array)):\n",
    "        if array[min_index]> array[pointer_index]:\n",
    "            min_index = pointer_index\n",
    "    array[border_index], array[min_index] = array[min_index], array[border_index]  #스왑 부분 \n",
    "\n",
    "print(array)"
   ]
  },
  {
   "cell_type": "code",
   "execution_count": 7,
   "metadata": {},
   "outputs": [
    {
     "name": "stdout",
     "output_type": "stream",
     "text": [
      "[11, 12, 22, 25, 64]\n",
      "[1, 2, 3, 4, 5, 6, 7, 8, 9, 10]\n"
     ]
    }
   ],
   "source": [
    "def selection_sort(array):\n",
    "    for border_index in range(0, len(array)-1):\n",
    "        min_index = border_index\n",
    "        for pointer_index in range(border_index+1, len(array)):\n",
    "            if array[min_index] > array[pointer_index]:  # 이거 하나 바꾸면 내림차순, 오름차순 바꿈\n",
    "                min_index = pointer_index\n",
    "        array[border_index], array[min_index] = array[min_index], array[border_index]  #스왑 부분 \n",
    "\n",
    "\n",
    "array = [64, 25, 12, 22, 11]\n",
    "selection_sort(array)\n",
    "print(array)\n",
    "\n",
    "array = [10, 9, 8, 7, 6, 5, 4, 3, 2, 1]\n",
    "selection_sort(array)\n",
    "print(array)"
   ]
  },
  {
   "cell_type": "code",
   "execution_count": 1,
   "metadata": {},
   "outputs": [],
   "source": [
    "import numpy as ps\n",
    "\n"
   ]
  }
 ],
 "metadata": {
  "interpreter": {
   "hash": "694584f6dcd0e630004e8a170076c85209e7d3985303d5c065749c473b73b8dd"
  },
  "kernelspec": {
   "display_name": "Python 3.9.7 64-bit",
   "name": "python3"
  },
  "language_info": {
   "codemirror_mode": {
    "name": "ipython",
    "version": 3
   },
   "file_extension": ".py",
   "mimetype": "text/x-python",
   "name": "python",
   "nbconvert_exporter": "python",
   "pygments_lexer": "ipython3",
   "version": "3.9.7"
  },
  "orig_nbformat": 4
 },
 "nbformat": 4,
 "nbformat_minor": 2
}
