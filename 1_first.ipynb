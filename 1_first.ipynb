{
 "cells": [
  {
   "cell_type": "code",
   "execution_count": 5,
   "source": [
    "array = [64, 25, 12, 22, 11]\r\n",
    "\r\n",
    "for bodrder_index in range(0, len(array)-1):  #뒤에 두개는 필요가 없음\r\n",
    "    min_index = border_index  \r\n",
    "    for pointer_index in range(border_index+1, len(array)):\r\n",
    "        if array[min_index] > array[pointer_index]:\r\n",
    "            min_index = pointer_index\r\n",
    "    array[border_index], array[min_index] = array[min_index], array[border_index]\r\n",
    "\r\n",
    "    \r\n",
    "print(array)"
   ],
   "outputs": [
    {
     "output_type": "stream",
     "name": "stdout",
     "text": [
      "[64, 25, 12, 11, 22]\n"
     ]
    }
   ],
   "metadata": {}
  },
  {
   "cell_type": "code",
   "execution_count": 6,
   "source": [
    "array = [64, 25, 12, 22, 11]\r\n",
    "\r\n",
    "for border_index in range(0, len(array)-1):\r\n",
    "    min_index = border_index\r\n",
    "    for pointer_index in range(border_index+1, len(array)):\r\n",
    "        if array[min_index]> array[pointer_index]:\r\n",
    "            min_index = pointer_index\r\n",
    "    array[border_index], array[min_index] = array[min_index], array[border_index]  #스왑 부분 \r\n",
    "\r\n",
    "print(array)"
   ],
   "outputs": [
    {
     "output_type": "stream",
     "name": "stdout",
     "text": [
      "[11, 12, 22, 25, 64]\n"
     ]
    }
   ],
   "metadata": {}
  },
  {
   "cell_type": "code",
   "execution_count": 7,
   "source": [
    "def selection_sort(array):\r\n",
    "    for border_index in range(0, len(array)-1):\r\n",
    "        min_index = border_index\r\n",
    "        for pointer_index in range(border_index+1, len(array)):\r\n",
    "            if array[min_index] > array[pointer_index]:  # 이거 하나 바꾸면 내림차순, 오름차순 바꿈\r\n",
    "                min_index = pointer_index\r\n",
    "        array[border_index], array[min_index] = array[min_index], array[border_index]  #스왑 부분 \r\n",
    "\r\n",
    "\r\n",
    "array = [64, 25, 12, 22, 11]\r\n",
    "selection_sort(array)\r\n",
    "print(array)\r\n",
    "\r\n",
    "array = [10, 9, 8, 7, 6, 5, 4, 3, 2, 1]\r\n",
    "selection_sort(array)\r\n",
    "print(array)"
   ],
   "outputs": [
    {
     "output_type": "stream",
     "name": "stdout",
     "text": [
      "[11, 12, 22, 25, 64]\n",
      "[1, 2, 3, 4, 5, 6, 7, 8, 9, 10]\n"
     ]
    }
   ],
   "metadata": {}
  },
  {
   "cell_type": "code",
   "execution_count": 8,
   "source": [
    "import numpy as ps\r\n",
    "\r\n"
   ],
   "outputs": [
    {
     "output_type": "stream",
     "name": "stdout",
     "text": [
      "pygame 2.0.1 (SDL 2.0.14, Python 3.9.7)\n",
      "Hello from the pygame community. https://www.pygame.org/contribute.html\n"
     ]
    }
   ],
   "metadata": {}
  }
 ],
 "metadata": {
  "orig_nbformat": 4,
  "language_info": {
   "name": "python",
   "version": "3.9.7",
   "mimetype": "text/x-python",
   "codemirror_mode": {
    "name": "ipython",
    "version": 3
   },
   "pygments_lexer": "ipython3",
   "nbconvert_exporter": "python",
   "file_extension": ".py"
  },
  "kernelspec": {
   "name": "python3",
   "display_name": "Python 3.9.7 64-bit"
  },
  "interpreter": {
   "hash": "694584f6dcd0e630004e8a170076c85209e7d3985303d5c065749c473b73b8dd"
  }
 },
 "nbformat": 4,
 "nbformat_minor": 2
}