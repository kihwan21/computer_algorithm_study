{
  "nbformat": 4,
  "nbformat_minor": 2,
  "metadata": {
    "colab": {
      "name": "Basic_sort.ipynb",
      "provenance": [],
      "collapsed_sections": []
    },
    "kernelspec": {
      "name": "python3",
      "display_name": "Python 3.9.7 64-bit"
    },
    "language_info": {
      "name": "python",
      "version": "3.9.7",
      "mimetype": "text/x-python",
      "codemirror_mode": {
        "name": "ipython",
        "version": 3
      },
      "pygments_lexer": "ipython3",
      "nbconvert_exporter": "python",
      "file_extension": ".py"
    },
    "interpreter": {
      "hash": "694584f6dcd0e630004e8a170076c85209e7d3985303d5c065749c473b73b8dd"
    }
  },
  "cells": [
    {
      "cell_type": "code",
      "execution_count": 4,
      "source": [
        "array = [64, 25, 12, 22, 11]\r\n",
        "\r\n",
        "def selection_sort(array):\r\n",
        "  for border_index in range(0, len(array)-1):\r\n",
        "      min_index = border_index\r\n",
        "      for pointer_index in range(border_index+1, len(array)):\r\n",
        "            if array[min_index] > array[pointer_index]:  # 이거 하나 바꾸면 내림차순, 오름차순 바꿈\r\n",
        "              min_index = pointer_index\r\n",
        "      array[border_index], array[min_index] = array[min_index], array[border_index]  #swap 부분, Python이 지원하는 기능. \r\n",
        "  return array\r\n",
        "  \r\n",
        "selection_sort(array)\r\n",
        "\r\n",
        "\r\n",
        "#print(array)\r\n",
        " "
      ],
      "outputs": [
        {
          "output_type": "execute_result",
          "data": {
            "text/plain": [
              "[11, 12, 22, 25, 64]"
            ]
          },
          "metadata": {},
          "execution_count": 4
        }
      ],
      "metadata": {
        "id": "d3_B6MVW9DL5",
        "colab_type": "code",
        "colab": {}
      }
    },
    {
      "cell_type": "code",
      "execution_count": 20,
      "source": [
        "array = [64, 25, 12, 22, 11]\r\n",
        "\r\n",
        "def bubble_sort(array):\r\n",
        "  for i in range(len(array)):\r\n",
        "        for j in range(len(array)-1):\r\n",
        "            if array[j] > array[j+1]:\r\n",
        "                temp = array[j]\r\n",
        "                array[j] = array[j+1]\r\n",
        "                array[j+1] = temp\r\n",
        "  return array\r\n",
        "\r\n",
        "bubble_sort(array)\r\n",
        "\r\n",
        "\r\n",
        "# print(array)"
      ],
      "outputs": [
        {
          "output_type": "execute_result",
          "data": {
            "text/plain": [
              "[11, 12, 22, 25, 64]"
            ]
          },
          "metadata": {},
          "execution_count": 20
        }
      ],
      "metadata": {
        "id": "2MIshbnC9r9w",
        "colab_type": "code",
        "colab": {}
      }
    },
    {
      "cell_type": "code",
      "execution_count": 10,
      "source": [
        "unordered = [64, 25, 12, 22, 11]\r\n",
        "\r\n",
        "def insertion_sort(arr):\r\n",
        "    for i in range(len(arr)): \r\n",
        "        num_we_are_on = arr[i]\r\n",
        "        j = i - 1 \r\n",
        "        while j >= 0 and arr[j] > num_we_are_on: # 앞은 범위 뒤는 우리가 멈춰야 하는 범위(break)\r\n",
        "                arr[j+1] = arr[j]\r\n",
        "                j -= 1\r\n",
        "        j += 1\r\n",
        "        arr[j] = num_we_are_on\r\n",
        "    return arr\r\n",
        "\r\n",
        "insertion_sort(unordered)\r\n",
        "\r\n",
        "# ordered_array = insertion_sort(unordered)\r\n",
        "# print(ordered_array)\r\n",
        "  "
      ],
      "outputs": [
        {
          "output_type": "execute_result",
          "data": {
            "text/plain": [
              "[11, 12, 22, 25, 64]"
            ]
          },
          "metadata": {},
          "execution_count": 10
        }
      ],
      "metadata": {
        "id": "qi0Sf_Nb9sHP",
        "colab_type": "code",
        "colab": {}
      }
    },
    {
      "cell_type": "code",
      "execution_count": 8,
      "source": [
        "unordered = [64, 25, 12, 22, 11]"
      ],
      "outputs": [],
      "metadata": {
        "id": "3YnVfmgn92QQ",
        "colab_type": "code",
        "colab": {}
      }
    },
    {
      "cell_type": "code",
      "execution_count": 9,
      "source": [
        "ordered = selection_sort(unordered.copy())\r\n",
        "print(\"[selection sort result]\")\r\n",
        "print(ordered)"
      ],
      "outputs": [
        {
          "output_type": "stream",
          "name": "stdout",
          "text": [
            "[selection sort result]\n",
            "[11, 12, 22, 25, 64]\n"
          ]
        }
      ],
      "metadata": {
        "id": "LcE8tQTp9MZe",
        "colab_type": "code",
        "colab": {}
      }
    },
    {
      "cell_type": "code",
      "execution_count": 32,
      "source": [
        "ordered = bubble_sort(unordered.copy())\r\n",
        "print(\"[bubble sort result]\")\r\n",
        "print(ordered)"
      ],
      "outputs": [
        {
          "output_type": "stream",
          "name": "stdout",
          "text": [
            "[bubble sort result]\n",
            "[11, 12, 22, 25, 64]\n"
          ]
        }
      ],
      "metadata": {
        "id": "ZpkSBY3G95Q4",
        "colab_type": "code",
        "colab": {}
      }
    },
    {
      "cell_type": "code",
      "execution_count": 11,
      "source": [
        "ordered = insertion_sort(unordered.copy())\r\n",
        "print(\"[insertion sort result]\")\r\n",
        "print(ordered)"
      ],
      "outputs": [
        {
          "output_type": "stream",
          "name": "stdout",
          "text": [
            "[insertion sort result]\n",
            "[11, 12, 22, 25, 64]\n"
          ]
        }
      ],
      "metadata": {
        "id": "7rSnLFay99Zo",
        "colab_type": "code",
        "colab": {}
      }
    }
  ]
}