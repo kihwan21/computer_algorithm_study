{
  "cells": [
    {
      "cell_type": "code",
      "execution_count": 1,
      "metadata": {
        "colab": {},
        "colab_type": "code",
        "id": "d3_B6MVW9DL5"
      },
      "outputs": [
        {
          "data": {
            "text/plain": [
              "[11, 12, 22, 25, 64]"
            ]
          },
          "execution_count": 1,
          "metadata": {},
          "output_type": "execute_result"
        }
      ],
      "source": [
        "array = [64, 25, 12, 22, 11]\n",
        "\n",
        "def selection_sort(array):\n",
        "  for border_index in range(0, len(array)-1):\n",
        "      min_index = border_index\n",
        "      for pointer_index in range(border_index+1, len(array)):\n",
        "            if array[min_index] > array[pointer_index]:  # 이거 하나 바꾸면 내림차순, 오름차순 바꿈\n",
        "              min_index = pointer_index\n",
        "      array[border_index], array[min_index] = array[min_index], array[border_index]  #swap 부분, Python이 지원하는 기능. \n",
        "  return array\n",
        "  \n",
        "selection_sort(array)\n",
        "\n",
        "\n",
        "#print(array)\n",
        " "
      ]
    },
    {
      "cell_type": "code",
      "execution_count": 20,
      "metadata": {
        "colab": {},
        "colab_type": "code",
        "id": "2MIshbnC9r9w"
      },
      "outputs": [
        {
          "data": {
            "text/plain": [
              "[11, 12, 22, 25, 64]"
            ]
          },
          "execution_count": 20,
          "metadata": {},
          "output_type": "execute_result"
        }
      ],
      "source": [
        "array = [64, 25, 12, 22, 11]\n",
        "\n",
        "def bubble_sort(array):\n",
        "  for i in range(len(array)):\n",
        "        for j in range(len(array)-1):\n",
        "            if array[j] > array[j+1]:\n",
        "                temp = array[j]\n",
        "                array[j] = array[j+1]\n",
        "                array[j+1] = temp\n",
        "  return array\n",
        "\n",
        "bubble_sort(array)\n",
        "\n",
        "\n",
        "# print(array)"
      ]
    },
    {
      "cell_type": "code",
      "execution_count": 10,
      "metadata": {
        "colab": {},
        "colab_type": "code",
        "id": "qi0Sf_Nb9sHP"
      },
      "outputs": [
        {
          "data": {
            "text/plain": [
              "[11, 12, 22, 25, 64]"
            ]
          },
          "execution_count": 10,
          "metadata": {},
          "output_type": "execute_result"
        }
      ],
      "source": [
        "unordered = [64, 25, 12, 22, 11]\n",
        "\n",
        "def insertion_sort(arr):\n",
        "    for i in range(len(arr)): \n",
        "        num_we_are_on = arr[i]\n",
        "        j = i - 1 \n",
        "        while j >= 0 and arr[j] > num_we_are_on: # 앞은 범위 뒤는 우리가 멈춰야 하는 범위(break)\n",
        "                arr[j+1] = arr[j]\n",
        "                j -= 1\n",
        "        j += 1\n",
        "        arr[j] = num_we_are_on\n",
        "    return arr\n",
        "\n",
        "insertion_sort(unordered)\n",
        "\n",
        "# ordered_array = insertion_sort(unordered)\n",
        "# print(ordered_array)\n",
        "  "
      ]
    },
    {
      "cell_type": "code",
      "execution_count": 8,
      "metadata": {
        "colab": {},
        "colab_type": "code",
        "id": "3YnVfmgn92QQ"
      },
      "outputs": [],
      "source": [
        "unordered = [64, 25, 12, 22, 11]"
      ]
    },
    {
      "cell_type": "code",
      "execution_count": 9,
      "metadata": {
        "colab": {},
        "colab_type": "code",
        "id": "LcE8tQTp9MZe"
      },
      "outputs": [
        {
          "name": "stdout",
          "output_type": "stream",
          "text": [
            "[selection sort result]\n",
            "[11, 12, 22, 25, 64]\n"
          ]
        }
      ],
      "source": [
        "ordered = selection_sort(unordered.copy())\n",
        "print(\"[selection sort result]\")\n",
        "print(ordered)"
      ]
    },
    {
      "cell_type": "code",
      "execution_count": 32,
      "metadata": {
        "colab": {},
        "colab_type": "code",
        "id": "ZpkSBY3G95Q4"
      },
      "outputs": [
        {
          "name": "stdout",
          "output_type": "stream",
          "text": [
            "[bubble sort result]\n",
            "[11, 12, 22, 25, 64]\n"
          ]
        }
      ],
      "source": [
        "ordered = bubble_sort(unordered.copy())\n",
        "print(\"[bubble sort result]\")\n",
        "print(ordered)"
      ]
    },
    {
      "cell_type": "code",
      "execution_count": 11,
      "metadata": {
        "colab": {},
        "colab_type": "code",
        "id": "7rSnLFay99Zo"
      },
      "outputs": [
        {
          "name": "stdout",
          "output_type": "stream",
          "text": [
            "[insertion sort result]\n",
            "[11, 12, 22, 25, 64]\n"
          ]
        }
      ],
      "source": [
        "ordered = insertion_sort(unordered.copy())\n",
        "print(\"[insertion sort result]\")\n",
        "print(ordered)"
      ]
    }
  ],
  "metadata": {
    "colab": {
      "collapsed_sections": [],
      "name": "Basic_sort.ipynb",
      "provenance": []
    },
    "interpreter": {
      "hash": "847356f37799fd3b958c515f6726750c1aff70ede38257c67477a4bea55125d9"
    },
    "kernelspec": {
      "display_name": "Python 3.9.7 64-bit (windows store)",
      "name": "python3"
    },
    "language_info": {
      "codemirror_mode": {
        "name": "ipython",
        "version": 3
      },
      "file_extension": ".py",
      "mimetype": "text/x-python",
      "name": "python",
      "nbconvert_exporter": "python",
      "pygments_lexer": "ipython3",
      "version": "3.9.9"
    }
  },
  "nbformat": 4,
  "nbformat_minor": 2
}
